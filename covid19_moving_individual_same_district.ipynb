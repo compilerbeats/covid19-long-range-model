{
 "cells": [
  {
   "cell_type": "code",
   "execution_count": 101,
   "id": "initial_id",
   "metadata": {
    "collapsed": true,
    "ExecuteTime": {
     "end_time": "2024-01-22T11:45:34.957747259Z",
     "start_time": "2024-01-22T11:45:34.913633094Z"
    }
   },
   "outputs": [],
   "source": [
    "# imports\n",
    "import pandas as pd\n",
    "import matplotlib\n",
    "import math\n",
    "import random\n",
    "import numpy\n",
    "import geopandas as gpd\n",
    "from shapely.ops import unary_union\n",
    "from shapely.geometry import Point\n",
    "\n",
    "%matplotlib inline\n",
    "\n",
    "# avoiding Type 3 fonts in matplotlib plots\n",
    "matplotlib.rcParams['pdf.fonttype'] = 42\n",
    "matplotlib.rcParams['ps.fonttype'] = 42\n",
    "\n",
    "font = {'size'   : 20}\n",
    "\n",
    "matplotlib.rc('font', **font)\n",
    "matplotlib.rc('lines', linewidth=2.0)\n",
    "matplotlib.rc('lines', markersize=8)\n",
    "\n",
    "numpy.set_printoptions(threshold=numpy.inf)\n",
    "\n",
    "pd.set_option('display.max_rows', 500)\n",
    "\n",
    "\n",
    "# transform polygon from epsg:4326 to epsg:3035 to work in km\n",
    "def transform_polygon(epsg_from, epsg_to, polygon):\n",
    "    # create a GeoDataFrame\n",
    "    gdf = gpd.GeoDataFrame(index=[0], crs=epsg_from, geometry=[polygon])\n",
    "\n",
    "    # transform the GeoDataFrame to EPSG:3035\n",
    "    return gdf.to_crs(epsg_to)['geometry'][0]"
   ]
  },
  {
   "cell_type": "code",
   "execution_count": 102,
   "outputs": [
    {
     "name": "stdout",
     "output_type": "stream",
     "text": [
      "SK Wolfsburg\n",
      "LK Helmstedt\n",
      "Bounds of lk 'SK Wolfsburg': (4365251.516081874, 3245533.407448974, 4382696.453068134, 3265422.7453582273)\n",
      "Bounds of lk 'LK Helmstedt': (4362094.160649367, 3216018.6549146227, 4395594.045104617, 3262720.0948905647)\n",
      "Bounds of merged lks in km: (4362094.160649367, 3216018.6549146227, 4395594.045104617, 3265422.7453582273)\n"
     ]
    }
   ],
   "source": [
    "# configure simulation\n",
    "input_file = 'data/gis_incidences_nona.pkl'\n",
    "gis_incidences_nona=pd.read_pickle(input_file)\n",
    "number_of_simulations = 1000000 # equivalent to number of points\n",
    "\n",
    "lk_identifier = (222, 223) # SK Wolfsburg and LK Helmstedt\n",
    "\n",
    "# print(gis_incidences_nona)\n",
    "\n",
    "for lk in lk_identifier:\n",
    "    print(gis_incidences_nona['LK'][lk])\n",
    "    \n",
    "array_of_lks = []\n",
    "for lk in lk_identifier:\n",
    "    array_of_lks.append(gis_incidences_nona['geometry'][lk])\n",
    "merged_lks = unary_union(array_of_lks)\n",
    "merged_lks_km = transform_polygon('epsg:4326', 'epsg:3035', merged_lks)\n",
    "\n",
    "# print(merged_lks_km)\n",
    "\n",
    "for lk in lk_identifier:\n",
    "    print(\"Bounds of lk '\" + gis_incidences_nona['LK'][lk] + \"': \" + str(transform_polygon('epsg:4326', 'epsg:3035', gis_incidences_nona['geometry'][lk]).bounds))\n",
    "\n",
    "print(\"Bounds of merged lks in km: \" + str(merged_lks_km.bounds))"
   ],
   "metadata": {
    "collapsed": false,
    "ExecuteTime": {
     "end_time": "2024-01-22T11:45:34.976845926Z",
     "start_time": "2024-01-22T11:45:34.957580509Z"
    }
   },
   "id": "cc325ad8a547e537"
  },
  {
   "cell_type": "code",
   "execution_count": 103,
   "outputs": [],
   "source": [
    "# generate points in the given lk's by using their merged boundaries\n",
    "def random_point_in_bounds_of_polygon(polygon):\n",
    "    minx, miny, maxx, maxy = polygon.bounds\n",
    "    x = numpy.random.uniform( minx, maxx )\n",
    "    y = numpy.random.uniform( miny, maxy )\n",
    "    return Point(x, y)\n",
    "\n",
    "\n",
    "i = 0\n",
    "points_in_lks = []\n",
    "while i <= number_of_simulations:\n",
    "    point = random_point_in_bounds_of_polygon(merged_lks_km)\n",
    "    if merged_lks_km.contains(point):\n",
    "        points_in_lks.append(point)\n",
    "        i += 1"
   ],
   "metadata": {
    "collapsed": false,
    "ExecuteTime": {
     "end_time": "2024-01-22T11:46:53.236967968Z",
     "start_time": "2024-01-22T11:45:34.980091641Z"
    }
   },
   "id": "42c9c923d59f6ecd"
  },
  {
   "cell_type": "code",
   "execution_count": 109,
   "outputs": [
    {
     "name": "stdout",
     "output_type": "stream",
     "text": [
      "Number of movements that ended inside the same LKs: 820768\n",
      "Percentage: 82.0768%\n"
     ]
    }
   ],
   "source": [
    "# simulate movement and count the number of movements, which end in the same lks\n",
    "a = 2.13\n",
    "number_of_movements_inside_lks = 0\n",
    "i = 0\n",
    "for point in points_in_lks:\n",
    "    angle = random.uniform(0, 2 * math.pi)\n",
    "    x = random.uniform(0, 1)\n",
    "    d = (math.pow(x, (-1 / (a - 1))))\n",
    "    pos_x = (point.x / 1000.0) + (d * math.cos(angle)) # we divide by 1000, since epsg:3035 works with meters\n",
    "    pos_y = (point.y / 1000.0) + (d * math.sin(angle))\n",
    "\n",
    "    if False: #i % 10000 == 0:\n",
    "        print(\"pos x: \" + str(pos_x) + \"; added distance: \" + str(d * math.cos(angle)))\n",
    "        print(\"pos y: \" + str(pos_y) + \"; added distance: \" + str(d * math.sin(angle)))\n",
    "\n",
    "    if merged_lks_km.contains(Point(pos_x * 1000.0, pos_y * 1000.0)): # to check if our new point is inside our polygon, we multiply by 1000 since epsg:3035 works with meters\n",
    "        number_of_movements_inside_lks += 1\n",
    "\n",
    "    i += 1\n",
    "\n",
    "print(\"Number of movements that ended inside the same LKs: \" + str(number_of_movements_inside_lks))\n",
    "print(\"Percentage: \" + str((number_of_movements_inside_lks / number_of_simulations) * 100)  + \"%\")"
   ],
   "metadata": {
    "collapsed": false,
    "ExecuteTime": {
     "end_time": "2024-01-22T11:55:20.387416285Z",
     "start_time": "2024-01-22T11:54:38.769434379Z"
    }
   },
   "id": "c2525345a567121"
  },
  {
   "cell_type": "code",
   "execution_count": null,
   "outputs": [],
   "source": [],
   "metadata": {
    "collapsed": false
   },
   "id": "9956e663f8691e5e"
  }
 ],
 "metadata": {
  "kernelspec": {
   "display_name": "Python 3",
   "language": "python",
   "name": "python3"
  },
  "language_info": {
   "codemirror_mode": {
    "name": "ipython",
    "version": 2
   },
   "file_extension": ".py",
   "mimetype": "text/x-python",
   "name": "python",
   "nbconvert_exporter": "python",
   "pygments_lexer": "ipython2",
   "version": "2.7.6"
  }
 },
 "nbformat": 4,
 "nbformat_minor": 5
}
